{
 "cells": [
  {
   "cell_type": "markdown",
   "metadata": {},
   "source": [
    "```\n",
    "Based on the provided sample queries and  the user query \"{query_str}\" generate a simple SQL query with nothing extra.\n",
    "                \n",
    "                Adhere to these rules:\n",
    "                - Just return SQL with any description and additional information\n",
    "                - Your response have to be compatible with MySQL\n",
    "                \n",
    "                User Question:\n",
    "                {query_str}\n",
    "                \n",
    "                Sample Queries:\n",
    "                {context_str}\n",
    "                \n",
    "                \n",
    "                ### Response:\n",
    "                Based on your instructions, here is the SQL query I have generated to answer the question {query_str}:\n",
    "                ```sql"
   ]
  },
  {
   "cell_type": "markdown",
   "metadata": {},
   "source": [
    "```\n",
    "### Instruction: You are a SQL master and your job is to convert questions to SQL queries. \\\\n based on the following samples: \\\\n {context_str} ### Input: {query_str}; \\\\n ### Output:\n",
    "```\n",
    "```\n",
    "### Instruction: You are a database admin and your job is to interpret a SQL queries. \\\\n based on the following samples: \\\\n {context_str} ### Input: {query_str}; \\\\n ### Output:\n",
    "```"
   ]
  }
 ],
 "metadata": {
  "language_info": {
   "name": "python"
  }
 },
 "nbformat": 4,
 "nbformat_minor": 2
}
