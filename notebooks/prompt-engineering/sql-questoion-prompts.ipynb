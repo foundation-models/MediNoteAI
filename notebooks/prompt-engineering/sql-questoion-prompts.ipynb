{
 "cells": [
  {
   "cell_type": "markdown",
   "metadata": {},
   "source": [
    "```\n",
    "Based on the provided sample queries and  the user query \"{input}\" generate a simple SQL query with nothing extra.\n",
    "                \n",
    "                Adhere to these rules:\n",
    "                - Just return SQL with any description and additional information\n",
    "                - Your response have to be compatible with MySQL\n",
    "                \n",
    "                User Question:\n",
    "                {input}\n",
    "                \n",
    "                Sample Queries:\n",
    "                {context_str}\n",
    "                \n",
    "                \n",
    "                ### Response:\n",
    "                Based on your instructions, here is the SQL query I have generated to answer the question {input}:\n",
    "                ```sql"
   ]
  },
  {
   "cell_type": "markdown",
   "metadata": {},
   "source": [
    "```\n",
    "### Instruction: You are a SQL master and your job is to convert questions to SQL queries. \\\\n based on the following samples: \\\\n {context_str} ### Input: {input}; \\\\n ### Output:\n",
    "```\n",
    "```\n",
    "### Instruction: You are a database admin and your job is to interpret a SQL queries. \\\\n based on the following samples: \\\\n {context_str} ### Input: {input}; \\\\n ### Output:\n",
    "```\n",
    "\n",
    "For Training\n",
    "```\n",
    "### Instruction: You are a SQL master and your job is to convert questions to SQL queries. \\\\n based on the following samples: \\\\n __samples__ ### Input: {input}; \\\\n ### Output: {output} \\\\n ### End\n",
    "```\n",
    "```\n",
    "### Instruction: You are a database admin and your job is to interpret a SQL queries. \\\\n based on the following samples: \\\\n __samples__ ### Input: {input}; \\\\n ### Outputt: {output} \\\\n ### End\n",
    "```"
   ]
  },
  {
   "cell_type": "code",
   "execution_count": null,
   "metadata": {},
   "outputs": [],
   "source": [
    "\n",
    "import pandas as pd\n",
    "df = pd.read_json(\"/mnt/datasets/question2sql_with_samples.jsonl\", lines=True)"
   ]
  },
  {
   "cell_type": "code",
   "execution_count": null,
   "metadata": {},
   "outputs": [],
   "source": [
    "def add_end_of_instruction(row):\n",
    "    return row[\"text\"] + \" \\\\n ### End\"\n"
   ]
  },
  {
   "cell_type": "code",
   "execution_count": null,
   "metadata": {},
   "outputs": [],
   "source": [
    "!pip install pandarallel"
   ]
  },
  {
   "cell_type": "code",
   "execution_count": null,
   "metadata": {},
   "outputs": [],
   "source": [
    "from pandarallel import pandarallel\n",
    "\n",
    "pandarallel.initialize()\n"
   ]
  },
  {
   "cell_type": "code",
   "execution_count": null,
   "metadata": {},
   "outputs": [],
   "source": [
    "df['text'] = df.parallel_apply(add_end_of_instruction, axis=1)"
   ]
  },
  {
   "cell_type": "code",
   "execution_count": null,
   "metadata": {},
   "outputs": [],
   "source": [
    "df.iloc[0][\"text\"]"
   ]
  },
  {
   "cell_type": "code",
   "execution_count": 19,
   "metadata": {},
   "outputs": [],
   "source": [
    "df.to_json(\"/mnt/datasets/question2sql_with_samples_eoi.jsonl\", orient=\"records\", lines=True)"
   ]
  },
  {
   "cell_type": "code",
   "execution_count": null,
   "metadata": {},
   "outputs": [],
   "source": [
    "df"
   ]
  }
 ],
 "metadata": {
  "kernelspec": {
   "display_name": "Python 3",
   "language": "python",
   "name": "python3"
  },
  "language_info": {
   "codemirror_mode": {
    "name": "ipython",
    "version": 3
   },
   "file_extension": ".py",
   "mimetype": "text/x-python",
   "name": "python",
   "nbconvert_exporter": "python",
   "pygments_lexer": "ipython3",
   "version": "3.9.18"
  }
 },
 "nbformat": 4,
 "nbformat_minor": 2
}
