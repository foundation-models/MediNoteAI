{
 "cells": [
  {
   "cell_type": "markdown",
   "metadata": {},
   "source": [
    "```\n",
    "Based on the provided sample queries and  the user query \"{input}\" generate a simple SQL query with nothing extra.\n",
    "                \n",
    "                Adhere to these rules:\n",
    "                - Just return SQL with any description and additional information\n",
    "                - Your response have to be compatible with MySQL\n",
    "                \n",
    "                User Question:\n",
    "                {input}\n",
    "                \n",
    "                Sample Queries:\n",
    "                {context_str}\n",
    "                \n",
    "                \n",
    "                ### Response:\n",
    "                Based on your instructions, here is the SQL query I have generated to answer the question {input}:\n",
    "                ```sql"
   ]
  },
  {
   "cell_type": "markdown",
   "metadata": {},
   "source": [
    "```\n",
    "### Instruction: You are a SQL master and your job is to convert questions to SQL queries. \\\\n based on the following samples: \\\\n {context_str} ### Input: {input}; \\\\n ### Output:\n",
    "```\n",
    "```\n",
    "### Instruction: You are a database admin and your job is to interpret a SQL queries. \\\\n based on the following samples: \\\\n {context_str} ### Input: {input}; \\\\n ### Output:\n",
    "```\n",
    "\n",
    "For Training\n",
    "```\n",
    "### Instruction: You are a SQL master and your job is to convert questions to SQL queries. \\\\n based on the following samples: \\\\n __samples__ ### Input: {input}; \\\\n ### Output: {output} \\\\n ### End\n",
    "```\n",
    "```\n",
    "### Instruction: You are a database admin and your job is to interpret a SQL queries. \\\\n based on the following samples: \\\\n __samples__ ### Input: {input}; \\\\n ### Outputt: {output} \\\\n ### End\n",
    "```"
   ]
  },
  {
   "cell_type": "code",
   "execution_count": 1,
   "metadata": {},
   "outputs": [],
   "source": [
    "\n",
    "import pandas as pd\n",
    "df = pd.read_json(\"/mnt/datasets/sql2question_with_samples.jsonl\", lines=True)"
   ]
  },
  {
   "cell_type": "code",
   "execution_count": 2,
   "metadata": {},
   "outputs": [],
   "source": [
    "def add_end_of_instruction(row):\n",
    "    return row[\"text\"] + \" \\\\n ### End\"\n"
   ]
  },
  {
   "cell_type": "code",
   "execution_count": 3,
   "metadata": {},
   "outputs": [
    {
     "name": "stdout",
     "output_type": "stream",
     "text": [
      "Defaulting to user installation because normal site-packages is not writeable\n",
      "Collecting pandarallel\n",
      "  Downloading pandarallel-1.6.5.tar.gz (14 kB)\n",
      "  Preparing metadata (setup.py) ... \u001b[?25ldone\n",
      "\u001b[?25hRequirement already satisfied: dill>=0.3.1 in /home/agent/.local/lib/python3.9/site-packages (from pandarallel) (0.3.7)\n",
      "Requirement already satisfied: pandas>=1 in /home/agent/.local/lib/python3.9/site-packages (from pandarallel) (2.1.4)\n",
      "Requirement already satisfied: psutil in /home/agent/.local/lib/python3.9/site-packages (from pandarallel) (5.9.7)\n",
      "Requirement already satisfied: numpy<2,>=1.22.4 in /home/agent/.local/lib/python3.9/site-packages (from pandas>=1->pandarallel) (1.26.2)\n",
      "Requirement already satisfied: python-dateutil>=2.8.2 in /home/agent/.local/lib/python3.9/site-packages (from pandas>=1->pandarallel) (2.8.2)\n",
      "Requirement already satisfied: pytz>=2020.1 in /home/agent/.local/lib/python3.9/site-packages (from pandas>=1->pandarallel) (2023.3.post1)\n",
      "Requirement already satisfied: tzdata>=2022.1 in /home/agent/.local/lib/python3.9/site-packages (from pandas>=1->pandarallel) (2023.3)\n",
      "Requirement already satisfied: six>=1.5 in /usr/lib/python3/dist-packages (from python-dateutil>=2.8.2->pandas>=1->pandarallel) (1.14.0)\n",
      "Building wheels for collected packages: pandarallel\n",
      "  Building wheel for pandarallel (setup.py) ... \u001b[?25ldone\n",
      "\u001b[?25h  Created wheel for pandarallel: filename=pandarallel-1.6.5-py3-none-any.whl size=16672 sha256=adc1174a5443e23b7b2d6126fe65c8d8d66ddbb1f86ea0d30acdbfbeb0560e1e\n",
      "  Stored in directory: /home/agent/.cache/pip/wheels/39/fe/8d/f7912d85b21ea72c9a8a3fefa6141fab92e575a67ab17c4474\n",
      "Successfully built pandarallel\n",
      "Installing collected packages: pandarallel\n",
      "Successfully installed pandarallel-1.6.5\n"
     ]
    }
   ],
   "source": [
    "!pip install pandarallel"
   ]
  },
  {
   "cell_type": "code",
   "execution_count": 5,
   "metadata": {},
   "outputs": [
    {
     "name": "stdout",
     "output_type": "stream",
     "text": [
      "INFO: Pandarallel will run on 6 workers.\n",
      "INFO: Pandarallel will use Memory file system to transfer data between the main process and workers.\n"
     ]
    }
   ],
   "source": [
    "from pandarallel import pandarallel\n",
    "\n",
    "pandarallel.initialize()\n"
   ]
  },
  {
   "cell_type": "code",
   "execution_count": 6,
   "metadata": {},
   "outputs": [],
   "source": [
    "df['text'] = df.parallel_apply(add_end_of_instruction, axis=1)"
   ]
  },
  {
   "cell_type": "code",
   "execution_count": 7,
   "metadata": {},
   "outputs": [
    {
     "data": {
      "text/plain": [
       "'### Instruction: You are a database admin and your job is to interpret a SQL queries. \\\\n based on the following samples: \\\\n Input: Can you provide a list of funds with IOI...\\nInput: List the names of contacts whose signatu...\\nInput: What are the assets that have an amortiz... \\\\n ### Input: SELECT COUNT(*) FROM Asset; \\\\n ### Output: Find the total number of assets in the database. \\\\n ### End'"
      ]
     },
     "execution_count": 7,
     "metadata": {},
     "output_type": "execute_result"
    }
   ],
   "source": [
    "df.iloc[0][\"text\"]"
   ]
  },
  {
   "cell_type": "code",
   "execution_count": 19,
   "metadata": {},
   "outputs": [],
   "source": [
    "df.to_json(\"/mnt/datasets/question2sql_with_samples_eoi.jsonl\", orient=\"records\", lines=True)"
   ]
  },
  {
   "cell_type": "code",
   "execution_count": null,
   "metadata": {},
   "outputs": [],
   "source": [
    "df"
   ]
  }
 ],
 "metadata": {
  "kernelspec": {
   "display_name": "Python 3",
   "language": "python",
   "name": "python3"
  },
  "language_info": {
   "codemirror_mode": {
    "name": "ipython",
    "version": 3
   },
   "file_extension": ".py",
   "mimetype": "text/x-python",
   "name": "python",
   "nbconvert_exporter": "python",
   "pygments_lexer": "ipython3",
   "version": "3.10.12"
  }
 },
 "nbformat": 4,
 "nbformat_minor": 2
}
