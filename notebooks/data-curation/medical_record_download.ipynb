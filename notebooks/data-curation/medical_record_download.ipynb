{
 "cells": [
  {
   "cell_type": "code",
   "execution_count": null,
   "metadata": {},
   "outputs": [],
   "source": [
    "from datasets import load_dataset_builder\n",
    "builder = load_dataset_builder('medical_dialog', 'en')\n",
    "builder.download_and_prepare()\n",
    "ds = builder.as_dataset(split='train')"
   ]
  },
  {
   "cell_type": "markdown",
   "metadata": {},
   "source": [
    "Chinese can be downloaded from https://drive.google.com/drive/folders/1r09_i8nJ9c1nliXVGXwSqRYqklcHd9e2 English is not accessible https://drive.google.com/drive/folders/1g29ssimdZ6JzTST6Y8g6h-ogUNReBtJD?usp=sharing"
   ]
  },
  {
   "cell_type": "code",
   "execution_count": null,
   "metadata": {},
   "outputs": [],
   "source": [
    "https://huggingface.co/datasets/Flmc/DISC-Med-SFT\n",
    "https://huggingface.co/datasets/BI55/MedText\n",
    "https://huggingface.co/datasets/medalpaca/medical_meadow_medqa\n",
    "https://huggingface.co/datasets/shibing624/medical\n",
    "https://huggingface.co/datasets/keivalya/MedQuad-MedicalQnADataset\n"
   ]
  }
 ],
 "metadata": {
  "kernelspec": {
   "display_name": "Python 3",
   "language": "python",
   "name": "python3"
  },
  "language_info": {
   "codemirror_mode": {
    "name": "ipython",
    "version": 3
   },
   "file_extension": ".py",
   "mimetype": "text/x-python",
   "name": "python",
   "nbconvert_exporter": "python",
   "pygments_lexer": "ipython3",
   "version": "3.10.12"
  }
 },
 "nbformat": 4,
 "nbformat_minor": 2
}
