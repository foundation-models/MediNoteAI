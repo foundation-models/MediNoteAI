{
 "cells": [
  {
   "cell_type": "markdown",
   "metadata": {},
   "source": [
    "Borrows from [ineTuning_phi-1_5_with_PRFT_LoRA](https://github.com/rohan-paul/LLM-FineTuning-Large-Language-Models/blob/main/FineTuning_phi-1_5_with_PRFT_LoRA.ipynb)"
   ]
  },
  {
   "cell_type": "code",
   "execution_count": 1,
   "metadata": {},
   "outputs": [
    {
     "name": "stderr",
     "output_type": "stream",
     "text": [
      "/usr/local/lib/python3.10/dist-packages/tqdm/auto.py:21: TqdmWarning: IProgress not found. Please update jupyter and ipywidgets. See https://ipywidgets.readthedocs.io/en/stable/user_install.html\n",
      "  from .autonotebook import tqdm as notebook_tqdm\n"
     ]
    }
   ],
   "source": [
    "from peft import PeftModel\n",
    "from transformers import AutoModelForCausalLM\n",
    "import torch\n",
    "from datasets import load_dataset, Dataset\n",
    "from transformers import AutoModelForCausalLM, AutoTokenizer, TrainingArguments, Trainer, DataCollatorForLanguageModeling, BitsAndBytesConfig\n",
    "from peft import LoraConfig, get_peft_model\n",
    "import os"
   ]
  },
  {
   "cell_type": "code",
   "execution_count": 3,
   "metadata": {},
   "outputs": [
    {
     "name": "stderr",
     "output_type": "stream",
     "text": [
      "Downloading data: 100%|██████████| 940k/940k [00:00<00:00, 13.0MB/s]\n",
      "Generating train split: 1412 examples [00:00, 78850.17 examples/s]\n"
     ]
    }
   ],
   "source": [
    "data = load_dataset(\"BI55/MedText\", split=\"train\")\n",
    "\n",
    "data_df = data.to_pandas()\n",
    "\n",
    "data_df[\"text\"] = data_df[[\"Prompt\", \"Completion\"]].apply(lambda x: \"Prompt: \" + x[\"Prompt\"] + \" Completion: \" + x[\"Completion\"], axis=1)\n"
   ]
  },
  {
   "cell_type": "code",
   "execution_count": 5,
   "metadata": {},
   "outputs": [
    {
     "data": {
      "text/plain": [
       "Dataset({\n",
       "    features: ['Prompt', 'Completion'],\n",
       "    num_rows: 1412\n",
       "})"
      ]
     },
     "execution_count": 5,
     "metadata": {},
     "output_type": "execute_result"
    }
   ],
   "source": [
    "data"
   ]
  },
  {
   "cell_type": "code",
   "execution_count": 10,
   "metadata": {},
   "outputs": [],
   "source": [
    "data_df[\"text\"] = data_df.text.apply(lambda x: {\"text\": x})"
   ]
  },
  {
   "cell_type": "code",
   "execution_count": 11,
   "metadata": {},
   "outputs": [
    {
     "data": {
      "text/html": [
       "<div>\n",
       "<style scoped>\n",
       "    .dataframe tbody tr th:only-of-type {\n",
       "        vertical-align: middle;\n",
       "    }\n",
       "\n",
       "    .dataframe tbody tr th {\n",
       "        vertical-align: top;\n",
       "    }\n",
       "\n",
       "    .dataframe thead th {\n",
       "        text-align: right;\n",
       "    }\n",
       "</style>\n",
       "<table border=\"1\" class=\"dataframe\">\n",
       "  <thead>\n",
       "    <tr style=\"text-align: right;\">\n",
       "      <th></th>\n",
       "      <th>Prompt</th>\n",
       "      <th>Completion</th>\n",
       "      <th>text</th>\n",
       "    </tr>\n",
       "  </thead>\n",
       "  <tbody>\n",
       "    <tr>\n",
       "      <th>0</th>\n",
       "      <td>A 50-year-old male presents with a history of ...</td>\n",
       "      <td>This patient's history of recurrent kidney sto...</td>\n",
       "      <td>{'text': 'Prompt: A 50-year-old male presents ...</td>\n",
       "    </tr>\n",
       "    <tr>\n",
       "      <th>1</th>\n",
       "      <td>A 7-year-old boy presents with a fever, headac...</td>\n",
       "      <td>This child's symptoms of a red, bulging tympan...</td>\n",
       "      <td>{'text': 'Prompt: A 7-year-old boy presents wi...</td>\n",
       "    </tr>\n",
       "    <tr>\n",
       "      <th>2</th>\n",
       "      <td>A 35-year-old woman presents with a persistent...</td>\n",
       "      <td>While the symptoms might initially suggest ast...</td>\n",
       "      <td>{'text': 'Prompt: A 35-year-old woman presents...</td>\n",
       "    </tr>\n",
       "    <tr>\n",
       "      <th>3</th>\n",
       "      <td>A 50-year-old male presents with severe abdomi...</td>\n",
       "      <td>The patient's symptoms suggest an incarcerated...</td>\n",
       "      <td>{'text': 'Prompt: A 50-year-old male presents ...</td>\n",
       "    </tr>\n",
       "    <tr>\n",
       "      <th>4</th>\n",
       "      <td>A newborn baby presents with eye redness and a...</td>\n",
       "      <td>The infant's symptoms suggest neonatal conjunc...</td>\n",
       "      <td>{'text': 'Prompt: A newborn baby presents with...</td>\n",
       "    </tr>\n",
       "    <tr>\n",
       "      <th>...</th>\n",
       "      <td>...</td>\n",
       "      <td>...</td>\n",
       "      <td>...</td>\n",
       "    </tr>\n",
       "    <tr>\n",
       "      <th>1407</th>\n",
       "      <td>A 55-year-old male with a history of chronic o...</td>\n",
       "      <td>While this patient's symptoms could be due to ...</td>\n",
       "      <td>{'text': 'Prompt: A 55-year-old male with a hi...</td>\n",
       "    </tr>\n",
       "    <tr>\n",
       "      <th>1408</th>\n",
       "      <td>Can diet and lifestyle changes help manage vit...</td>\n",
       "      <td>While there is no specific diet or lifestyle m...</td>\n",
       "      <td>{'text': 'Prompt: Can diet and lifestyle chang...</td>\n",
       "    </tr>\n",
       "    <tr>\n",
       "      <th>1409</th>\n",
       "      <td>A 50-year-old female presents with right shoul...</td>\n",
       "      <td>This patient's shoulder and arm pain following...</td>\n",
       "      <td>{'text': 'Prompt: A 50-year-old female present...</td>\n",
       "    </tr>\n",
       "    <tr>\n",
       "      <th>1410</th>\n",
       "      <td>A 60-year-old female with high cholesterol lev...</td>\n",
       "      <td>In addition to a diet low in saturated fats an...</td>\n",
       "      <td>{'text': 'Prompt: A 60-year-old female with hi...</td>\n",
       "    </tr>\n",
       "    <tr>\n",
       "      <th>1411</th>\n",
       "      <td>What are the main subtypes of vitiligo and how...</td>\n",
       "      <td>The main subtypes of vitiligo are non-segmenta...</td>\n",
       "      <td>{'text': 'Prompt: What are the main subtypes o...</td>\n",
       "    </tr>\n",
       "  </tbody>\n",
       "</table>\n",
       "<p>1412 rows × 3 columns</p>\n",
       "</div>"
      ],
      "text/plain": [
       "                                                 Prompt  \\\n",
       "0     A 50-year-old male presents with a history of ...   \n",
       "1     A 7-year-old boy presents with a fever, headac...   \n",
       "2     A 35-year-old woman presents with a persistent...   \n",
       "3     A 50-year-old male presents with severe abdomi...   \n",
       "4     A newborn baby presents with eye redness and a...   \n",
       "...                                                 ...   \n",
       "1407  A 55-year-old male with a history of chronic o...   \n",
       "1408  Can diet and lifestyle changes help manage vit...   \n",
       "1409  A 50-year-old female presents with right shoul...   \n",
       "1410  A 60-year-old female with high cholesterol lev...   \n",
       "1411  What are the main subtypes of vitiligo and how...   \n",
       "\n",
       "                                             Completion  \\\n",
       "0     This patient's history of recurrent kidney sto...   \n",
       "1     This child's symptoms of a red, bulging tympan...   \n",
       "2     While the symptoms might initially suggest ast...   \n",
       "3     The patient's symptoms suggest an incarcerated...   \n",
       "4     The infant's symptoms suggest neonatal conjunc...   \n",
       "...                                                 ...   \n",
       "1407  While this patient's symptoms could be due to ...   \n",
       "1408  While there is no specific diet or lifestyle m...   \n",
       "1409  This patient's shoulder and arm pain following...   \n",
       "1410  In addition to a diet low in saturated fats an...   \n",
       "1411  The main subtypes of vitiligo are non-segmenta...   \n",
       "\n",
       "                                                   text  \n",
       "0     {'text': 'Prompt: A 50-year-old male presents ...  \n",
       "1     {'text': 'Prompt: A 7-year-old boy presents wi...  \n",
       "2     {'text': 'Prompt: A 35-year-old woman presents...  \n",
       "3     {'text': 'Prompt: A 50-year-old male presents ...  \n",
       "4     {'text': 'Prompt: A newborn baby presents with...  \n",
       "...                                                 ...  \n",
       "1407  {'text': 'Prompt: A 55-year-old male with a hi...  \n",
       "1408  {'text': 'Prompt: Can diet and lifestyle chang...  \n",
       "1409  {'text': 'Prompt: A 50-year-old female present...  \n",
       "1410  {'text': 'Prompt: A 60-year-old female with hi...  \n",
       "1411  {'text': 'Prompt: What are the main subtypes o...  \n",
       "\n",
       "[1412 rows x 3 columns]"
      ]
     },
     "execution_count": 11,
     "metadata": {},
     "output_type": "execute_result"
    }
   ],
   "source": [
    "data_df"
   ]
  },
  {
   "cell_type": "code",
   "execution_count": 12,
   "metadata": {},
   "outputs": [],
   "source": [
    "datasets_folder = \"../../src/text-generation-webui/training/datasets/huggingface/BI55-MedText\"\n",
    "data_df[\"text\"].to_json(f\"{datasets_folder}/completion_training_text.json\", orient=\"records\", lines=True)"
   ]
  }
 ],
 "metadata": {
  "kernelspec": {
   "display_name": "Python 3",
   "language": "python",
   "name": "python3"
  },
  "language_info": {
   "codemirror_mode": {
    "name": "ipython",
    "version": 3
   },
   "file_extension": ".py",
   "mimetype": "text/x-python",
   "name": "python",
   "nbconvert_exporter": "python",
   "pygments_lexer": "ipython3",
   "version": "3.10.12"
  }
 },
 "nbformat": 4,
 "nbformat_minor": 2
}
